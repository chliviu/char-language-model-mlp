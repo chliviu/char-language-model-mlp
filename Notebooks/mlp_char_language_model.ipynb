{
 "cells": [
  {
   "cell_type": "code",
   "execution_count": 3,
   "id": "6dc9f122-3746-465b-8e1b-aa7bd2ad63b0",
   "metadata": {},
   "outputs": [],
   "source": [
    "# !pip install torch"
   ]
  },
  {
   "cell_type": "code",
   "execution_count": 126,
   "id": "f96bfbe1-c6d7-4bda-8f9c-5d8c6e10d521",
   "metadata": {},
   "outputs": [],
   "source": [
    "import torch\n",
    "import torch.nn.functional as F\n",
    "import matplotlib.pyplot as plt\n",
    "%matplotlib inline"
   ]
  },
  {
   "cell_type": "code",
   "execution_count": 127,
   "id": "5339ed13-5fec-435d-aa30-63a936af603f",
   "metadata": {},
   "outputs": [
    {
     "data": {
      "text/plain": [
       "['1 DECEMBRIE',\n",
       " '2 MAI',\n",
       " '23 AUGUST',\n",
       " 'ABRAM',\n",
       " 'ABRAMUT',\n",
       " 'ABRUD',\n",
       " 'ABRUD-SAT',\n",
       " 'ABUCEA',\n",
       " 'ABUD',\n",
       " 'ABUS']"
      ]
     },
     "execution_count": 127,
     "metadata": {},
     "output_type": "execute_result"
    }
   ],
   "source": [
    "words = open(\"rocities.txt\", \"r\").read().splitlines()\n",
    "words[:10]"
   ]
  },
  {
   "cell_type": "code",
   "execution_count": 128,
   "id": "224b137c-4d93-4f13-80ca-017943e5e180",
   "metadata": {},
   "outputs": [
    {
     "data": {
      "text/plain": [
       "10148"
      ]
     },
     "execution_count": 128,
     "metadata": {},
     "output_type": "execute_result"
    }
   ],
   "source": [
    "len(words)"
   ]
  },
  {
   "cell_type": "code",
   "execution_count": 129,
   "id": "e4badf98-278f-47fb-9f4f-61130d5053c2",
   "metadata": {},
   "outputs": [
    {
     "name": "stdout",
     "output_type": "stream",
     "text": [
      "{' ': 1, '-': 2, '.': 3, '1': 4, '2': 5, '3': 6, 'A': 7, 'B': 8, 'C': 9, 'D': 10, 'E': 11, 'F': 12, 'G': 13, 'H': 14, 'I': 15, 'J': 16, 'K': 17, 'L': 18, 'M': 19, 'N': 20, 'O': 21, 'P': 22, 'R': 23, 'S': 24, 'T': 25, 'U': 26, 'V': 27, 'X': 28, 'Y': 29, 'Z': 30, '*': 0}\n"
     ]
    }
   ],
   "source": [
    "# build the vocabulary and mappings to/from ints\n",
    "chars = sorted(list(set(''.join(words))))\n",
    "stoi = {s: i + 1 for i,s in enumerate(chars)}\n",
    "stoi['*'] = 0\n",
    "itos = {i: s for s,i in stoi.items()}\n",
    "print(stoi)\n",
    "chars_count = len(stoi.values())"
   ]
  },
  {
   "cell_type": "code",
   "execution_count": 55,
   "id": "46a0af4c-8b41-4976-ba60-caf4fc493603",
   "metadata": {},
   "outputs": [],
   "source": [
    "# dataset\n",
    "\n",
    "block_size = 3 # length of context: no. of characters we use to predict the next\n",
    "\n",
    "X, Y = [], []\n",
    "for w in words:\n",
    "    # print(w)\n",
    "    context = [0] * block_size\n",
    "    for ch in w + '*':\n",
    "        ix = stoi[ch]\n",
    "        X.append(context)\n",
    "        Y.append(ix)\n",
    "        # print(''.join(itos[i] for i in context), '-->', itos[ix])\n",
    "        context = context[1:] + [ix] # crop and append, like a rolling window\n",
    "        \n",
    "X = torch.tensor(X)\n",
    "Y = torch.tensor(Y)"
   ]
  },
  {
   "cell_type": "code",
   "execution_count": 56,
   "id": "b11037d3-97cd-4750-882a-5bdb9fbf316f",
   "metadata": {},
   "outputs": [
    {
     "data": {
      "text/plain": [
       "(torch.Size([98696, 3]), torch.int64, torch.Size([98696]), torch.int64)"
      ]
     },
     "execution_count": 56,
     "metadata": {},
     "output_type": "execute_result"
    }
   ],
   "source": [
    "X.shape, X.dtype, Y.shape, Y.dtype"
   ]
  },
  {
   "cell_type": "code",
   "execution_count": 10,
   "id": "9ffb254e-7f29-4c93-a57c-5d56f14e77f1",
   "metadata": {},
   "outputs": [
    {
     "data": {
      "text/plain": [
       "31"
      ]
     },
     "execution_count": 10,
     "metadata": {},
     "output_type": "execute_result"
    }
   ],
   "source": [
    "chars_count"
   ]
  },
  {
   "cell_type": "code",
   "execution_count": 130,
   "id": "1e06b4dd-412c-43eb-8f4f-c80971e77076",
   "metadata": {},
   "outputs": [
    {
     "name": "stdout",
     "output_type": "stream",
     "text": [
      "torch.Size([78934, 3]) torch.Size([78934])\n",
      "torch.Size([9925, 3]) torch.Size([9925])\n",
      "torch.Size([9837, 3]) torch.Size([9837])\n"
     ]
    }
   ],
   "source": [
    "block_size = 3  # context length: how many characters do we take to predict the next one?\n",
    "\n",
    "def build_dataset(words):  \n",
    "  X, Y = [], []\n",
    "  for w in words:\n",
    "    context = [0] * block_size\n",
    "    for ch in w + '*':\n",
    "      ix = stoi[ch]\n",
    "      X.append(context)\n",
    "      Y.append(ix)\n",
    "      context = context[1:] + [ix] # crop and append\n",
    "\n",
    "  X = torch.tensor(X)\n",
    "  Y = torch.tensor(Y)\n",
    "  print(X.shape, Y.shape)\n",
    "  return X, Y\n",
    "\n",
    "import random\n",
    "random.seed(42)\n",
    "random.shuffle(words)\n",
    "n1 = int(0.8*len(words))\n",
    "n2 = int(0.9*len(words))\n",
    "\n",
    "Xtr, Ytr = build_dataset(words[:n1])\n",
    "Xdev, Ydev = build_dataset(words[n1:n2])\n",
    "Xte, Yte = build_dataset(words[n2:])"
   ]
  },
  {
   "cell_type": "code",
   "execution_count": 11,
   "id": "be2c66e8-7398-4766-99e6-45ba543fe04d",
   "metadata": {},
   "outputs": [],
   "source": [
    "C = torch.randn((chars_count, 2))  # lookup table - each char is 2 dimensional"
   ]
  },
  {
   "cell_type": "code",
   "execution_count": 13,
   "id": "3c8faf7c-a182-4412-8591-7c678d3e90a6",
   "metadata": {},
   "outputs": [
    {
     "data": {
      "text/plain": [
       "torch.Size([42, 3, 2])"
      ]
     },
     "execution_count": 13,
     "metadata": {},
     "output_type": "execute_result"
    }
   ],
   "source": [
    "emb = C[X]\n",
    "emb.shape"
   ]
  },
  {
   "cell_type": "code",
   "execution_count": 14,
   "id": "8a5db170-f84f-4032-97a2-6e62e16197e6",
   "metadata": {},
   "outputs": [],
   "source": [
    "W1 = torch.randn((6, 100))\n",
    "b1 = torch.randn(100)"
   ]
  },
  {
   "cell_type": "code",
   "execution_count": 15,
   "id": "ded63d06-15b0-418f-81a6-d238adacd76d",
   "metadata": {},
   "outputs": [],
   "source": [
    "h = torch.tanh(emb.view(-1, 6) @ W1 + b1)"
   ]
  },
  {
   "cell_type": "code",
   "execution_count": 16,
   "id": "e48f45fa-d8e1-4cb2-b096-d59b18e72ce3",
   "metadata": {},
   "outputs": [
    {
     "data": {
      "text/plain": [
       "tensor([[ 0.9534,  0.9526, -0.9999,  ...,  0.3725,  0.8822,  0.9132],\n",
       "        [ 0.9981,  0.9784, -1.0000,  ...,  0.8397,  0.9609,  0.9558],\n",
       "        [-0.9837,  0.9834, -0.9677,  ...,  0.9980, -0.6042,  0.5047],\n",
       "        ...,\n",
       "        [ 0.9984, -0.1281, -0.9944,  ..., -0.9721, -0.4807,  0.0122],\n",
       "        [ 0.8547,  0.7818, -0.9986,  ...,  0.9968, -0.9415,  0.9750],\n",
       "        [-0.8325,  1.0000, -0.9164,  ...,  0.9927,  0.6431,  0.6123]])"
      ]
     },
     "execution_count": 16,
     "metadata": {},
     "output_type": "execute_result"
    }
   ],
   "source": [
    "h"
   ]
  },
  {
   "cell_type": "code",
   "execution_count": 18,
   "id": "af1a7d55-61b2-4f09-b538-1b4d6483e26e",
   "metadata": {},
   "outputs": [
    {
     "data": {
      "text/plain": [
       "torch.Size([42, 100])"
      ]
     },
     "execution_count": 18,
     "metadata": {},
     "output_type": "execute_result"
    }
   ],
   "source": [
    "h.shape"
   ]
  },
  {
   "cell_type": "code",
   "execution_count": 27,
   "id": "fdf3c573-bc4f-48c2-a4fd-43c243cd14fe",
   "metadata": {},
   "outputs": [],
   "source": [
    "W2 = torch.randn((100, chars_count))\n",
    "b2 = torch.randn(chars_count)"
   ]
  },
  {
   "cell_type": "code",
   "execution_count": 28,
   "id": "a1adbbff-9549-4d56-9be9-4b99306a535c",
   "metadata": {},
   "outputs": [],
   "source": [
    "logits = h @ W2 + b2"
   ]
  },
  {
   "cell_type": "code",
   "execution_count": 29,
   "id": "ae83e28b-8502-4b33-8233-4df83ae23921",
   "metadata": {},
   "outputs": [
    {
     "data": {
      "text/plain": [
       "torch.Size([42, 31])"
      ]
     },
     "execution_count": 29,
     "metadata": {},
     "output_type": "execute_result"
    }
   ],
   "source": [
    "logits.shape"
   ]
  },
  {
   "cell_type": "code",
   "execution_count": 24,
   "id": "bce8f1b5-3b3a-4144-9902-ca29340b126d",
   "metadata": {},
   "outputs": [],
   "source": [
    "counts = logits.exp()"
   ]
  },
  {
   "cell_type": "code",
   "execution_count": 25,
   "id": "79be6c9b-c843-4580-ae88-f8a174d71367",
   "metadata": {},
   "outputs": [],
   "source": [
    "prob = counts / counts.sum(1, keepdims=True)"
   ]
  },
  {
   "cell_type": "code",
   "execution_count": 26,
   "id": "82323039-6f9e-409a-9214-ba4203614b63",
   "metadata": {},
   "outputs": [
    {
     "data": {
      "text/plain": [
       "torch.Size([42, 27])"
      ]
     },
     "execution_count": 26,
     "metadata": {},
     "output_type": "execute_result"
    }
   ],
   "source": [
    "prob.shape"
   ]
  },
  {
   "cell_type": "code",
   "execution_count": 31,
   "id": "7cb65aca-4a9e-4175-9342-b6ab2f92752a",
   "metadata": {},
   "outputs": [
    {
     "data": {
      "text/plain": [
       "tensor(17.4903)"
      ]
     },
     "execution_count": 31,
     "metadata": {},
     "output_type": "execute_result"
    }
   ],
   "source": [
    "loss = -prob[torch.arange(42), Y].log().mean()\n",
    "loss"
   ]
  },
  {
   "cell_type": "code",
   "execution_count": 33,
   "id": "f1020e32-6bcd-4e8d-adcb-6bbbf620a7c6",
   "metadata": {},
   "outputs": [],
   "source": [
    "# ======== Refactor ========"
   ]
  },
  {
   "cell_type": "code",
   "execution_count": 131,
   "id": "8f99899a-83f8-4e0f-952a-5364692837d2",
   "metadata": {},
   "outputs": [
    {
     "data": {
      "text/plain": [
       "(torch.Size([78934, 3]), torch.Size([78934]))"
      ]
     },
     "execution_count": 131,
     "metadata": {},
     "output_type": "execute_result"
    }
   ],
   "source": [
    "Xtr.shape, Ytr.shape"
   ]
  },
  {
   "cell_type": "code",
   "execution_count": 132,
   "id": "2ac73f5d-070a-4d7e-80f9-a6f63c91534e",
   "metadata": {},
   "outputs": [],
   "source": [
    "g = torch.Generator().manual_seed(21)  # for reproductibility\n",
    "C = torch.randn((chars_count, 10), generator=g)\n",
    "W1 = torch.randn((30, 200), generator=g)\n",
    "b1 = torch.randn(200, generator=g)\n",
    "W2 = torch.randn((200, chars_count), generator=g)\n",
    "b2 = torch.randn(chars_count, generator=g)\n",
    "parameters = [C, W1, b1, W2, b2]"
   ]
  },
  {
   "cell_type": "code",
   "execution_count": 133,
   "id": "1d713610-1f48-4f62-bf8d-6cd45a8d060d",
   "metadata": {},
   "outputs": [
    {
     "data": {
      "text/plain": [
       "12741"
      ]
     },
     "execution_count": 133,
     "metadata": {},
     "output_type": "execute_result"
    }
   ],
   "source": [
    "sum(p.nelement() for p in parameters)  # total number of parameters"
   ]
  },
  {
   "cell_type": "code",
   "execution_count": 94,
   "id": "acf21e03-29c8-4112-8598-74918c41a99d",
   "metadata": {},
   "outputs": [],
   "source": [
    "emb = C[X]  # [42, 3, 2]\n",
    "h = torch.tanh(emb.view(-1, 6) @ W1 + b1)\n",
    "logits = h @ W2 + b2  # (42, 31)\n",
    "loss = F.cross_entropy(logits, Y)"
   ]
  },
  {
   "cell_type": "code",
   "execution_count": 95,
   "id": "195b4ab5-295b-4b16-b17c-c5cde6ceca89",
   "metadata": {},
   "outputs": [
    {
     "data": {
      "text/plain": [
       "tensor(19.8123)"
      ]
     },
     "execution_count": 95,
     "metadata": {},
     "output_type": "execute_result"
    }
   ],
   "source": [
    "loss"
   ]
  },
  {
   "cell_type": "code",
   "execution_count": 134,
   "id": "e8c9ea18-4e6f-4a8e-871c-1d24090ab0ce",
   "metadata": {},
   "outputs": [],
   "source": [
    "for p in parameters:\n",
    "    p.requires_grad = True"
   ]
  },
  {
   "cell_type": "code",
   "execution_count": 135,
   "id": "40d65b02-232e-4daf-871c-9db4ba97592f",
   "metadata": {},
   "outputs": [],
   "source": [
    "lre = torch.linspace(-3, 0, 30000)\n",
    "lrs = 10**lre"
   ]
  },
  {
   "cell_type": "code",
   "execution_count": 136,
   "id": "aa775712-044d-45b9-9270-384254ea4d4c",
   "metadata": {},
   "outputs": [],
   "source": [
    "lri = []\n",
    "lossi = []\n",
    "stepi = []"
   ]
  },
  {
   "cell_type": "code",
   "execution_count": 186,
   "id": "38603e9f-2aed-4136-a4f1-268aaa7500cf",
   "metadata": {},
   "outputs": [
    {
     "name": "stdout",
     "output_type": "stream",
     "text": [
      "1.8556545972824097\n"
     ]
    }
   ],
   "source": [
    "for i in range(50000):\n",
    "    # minibatch construct\n",
    "    ix = torch.randint(0, Xtr.shape[0], (42,))\n",
    "    \n",
    "    # forward pass\n",
    "    emb = C[Xtr[ix]]  # [42, 3, 2]\n",
    "    h = torch.tanh(emb.view(-1, 30) @ W1 + b1)\n",
    "    logits = h @ W2 + b2  # (42, 31)\n",
    "    loss = F.cross_entropy(logits, Ytr[ix])\n",
    "    # backward pass\n",
    "    for p in parameters:\n",
    "        p.grad = None\n",
    "    loss.backward()\n",
    "    # update\n",
    "    # lr = lrs[i]\n",
    "    lr = 0.01\n",
    "    for p in parameters:\n",
    "        p.data += -lr * p.grad\n",
    "    # lri.append(lre[i])\n",
    "    lossi.append(loss.log10().item())\n",
    "    stepi.append(i)\n",
    "\n",
    "print(loss.item())"
   ]
  },
  {
   "cell_type": "code",
   "execution_count": 187,
   "id": "66a77b63-dcf6-4620-8d1b-cc2a52c2c280",
   "metadata": {},
   "outputs": [
    {
     "data": {
      "text/plain": [
       "[<matplotlib.lines.Line2D at 0xffff1d3e7910>]"
      ]
     },
     "execution_count": 187,
     "metadata": {},
     "output_type": "execute_result"
    },
    {
     "data": {
      "image/png": "[encoded data removed]",
      "text/plain": [
       "<Figure size 640x480 with 1 Axes>"
      ]
     },
     "metadata": {},
     "output_type": "display_data"
    }
   ],
   "source": [
    "plt.plot(stepi, lossi)"
   ]
  },
  {
   "cell_type": "code",
   "execution_count": 188,
   "id": "fb6a9372-5597-4f4c-8537-82f00a067bf5",
   "metadata": {},
   "outputs": [
    {
     "data": {
      "text/plain": [
       "tensor(1.8518, grad_fn=<NllLossBackward0>)"
      ]
     },
     "execution_count": 188,
     "metadata": {},
     "output_type": "execute_result"
    }
   ],
   "source": [
    "emb = C[Xtr]  # [42, 3, 2]\n",
    "h = torch.tanh(emb.view(-1, 30) @ W1 + b1)\n",
    "logits = h @ W2 + b2  # (42, 31)\n",
    "loss = F.cross_entropy(logits, Ytr)\n",
    "loss"
   ]
  },
  {
   "cell_type": "code",
   "execution_count": 189,
   "id": "19088ea8-0f3f-491b-b7a1-2bf4aaa42476",
   "metadata": {},
   "outputs": [
    {
     "data": {
      "text/plain": [
       "tensor(1.9414, grad_fn=<NllLossBackward0>)"
      ]
     },
     "execution_count": 189,
     "metadata": {},
     "output_type": "execute_result"
    }
   ],
   "source": [
    "emb = C[Xdev]  # [42, 3, 2]\n",
    "h = torch.tanh(emb.view(-1, 30) @ W1 + b1)\n",
    "logits = h @ W2 + b2  # (42, 31)\n",
    "loss = F.cross_entropy(logits, Ydev)\n",
    "loss"
   ]
  },
  {
   "cell_type": "code",
   "execution_count": 141,
   "id": "f726b6ae-a5ab-4ee8-adbf-a2d69dda432c",
   "metadata": {},
   "outputs": [
    {
     "data": {
      "image/png": "[encoded data removed]",
      "text/plain": [
       "<Figure size 800x800 with 1 Axes>"
      ]
     },
     "metadata": {},
     "output_type": "display_data"
    }
   ],
   "source": [
    "# visualize the character embeddings\n",
    "plt.figure(figsize=(8,8))\n",
    "plt.scatter(C[:,0].data, C[:,1].data, s=200)\n",
    "for i in range(C.shape[0]):\n",
    "    plt.text(C[i,0].item(), C[i,1].item(), itos[i], ha=\"center\", va=\"center\", color='white')\n",
    "plt.grid('minor')"
   ]
  },
  {
   "cell_type": "code",
   "execution_count": 190,
   "id": "f69f3e9f-4f7a-410d-9f8b-63b0e47574e5",
   "metadata": {},
   "outputs": [
    {
     "name": "stdout",
     "output_type": "stream",
     "text": [
      "TALCENI*\n",
      "RUNICEI*\n",
      "HOBOVATI*\n",
      "AGACAT*\n",
      "JUGELU*\n",
      "STEI*\n",
      "ALA*\n",
      "GALNICA*\n",
      "MOTIENI*\n",
      "TELCOASA DE SUS*\n",
      "RAPUSENI*\n",
      "MASAU DE PAITA*\n",
      "BAIIVANI*\n",
      "LUVOITEI*\n",
      "MAN*\n",
      "DOBAIA*\n",
      "LAZE*\n",
      "BULUI*\n",
      "REC*\n",
      "LUC*\n"
     ]
    }
   ],
   "source": [
    "# sample from the model\n",
    "g = torch.Generator().manual_seed(1)\n",
    "\n",
    "for _ in range(20):\n",
    "    \n",
    "    out = []\n",
    "    context = [0] * block_size  # initialize with all ***\n",
    "    while True:\n",
    "      emb = C[torch.tensor([context])]  # (1, block_size, d)\n",
    "      h = torch.tanh(emb.view(1, -1) @ W1 + b1)\n",
    "      logits = h @ W2 + b2\n",
    "      probs = F.softmax(logits, dim=1)\n",
    "      ix = torch.multinomial(probs, num_samples=1, generator=g).item()\n",
    "      context = context[1:] + [ix]\n",
    "      out.append(ix)\n",
    "      if ix == 0:\n",
    "        break\n",
    "    \n",
    "    print(''.join(itos[i] for i in out))"
   ]
  },
  {
   "cell_type": "code",
   "execution_count": null,
   "id": "261f93ce-483d-4aa1-aa09-d9144aae7ec0",
   "metadata": {},
   "outputs": [],
   "source": []
  }
 ],
 "metadata": {
  "kernelspec": {
   "display_name": "Python 3 (ipykernel)",
   "language": "python",
   "name": "python3"
  },
  "language_info": {
   "codemirror_mode": {
    "name": "ipython",
    "version": 3
   },
   "file_extension": ".py",
   "mimetype": "text/x-python",
   "name": "python",
   "nbconvert_exporter": "python",
   "pygments_lexer": "ipython3",
   "version": "3.11.6"
  }
 },
 "nbformat": 4,
 "nbformat_minor": 5
}
