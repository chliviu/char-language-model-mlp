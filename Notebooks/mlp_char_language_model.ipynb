{
 "cells": [
  {
   "cell_type": "code",
   "execution_count": 3,
   "id": "6dc9f122-3746-465b-8e1b-aa7bd2ad63b0",
   "metadata": {},
   "outputs": [],
   "source": [
    "# !pip install torch"
   ]
  },
  {
   "cell_type": "code",
   "execution_count": 2,
   "id": "f96bfbe1-c6d7-4bda-8f9c-5d8c6e10d521",
   "metadata": {},
   "outputs": [],
   "source": [
    "import torch\n",
    "import torch.nn.functional as F\n",
    "import matplotlib.pyplot as plt\n",
    "%matplotlib inline"
   ]
  },
  {
   "cell_type": "code",
   "execution_count": 3,
   "id": "5339ed13-5fec-435d-aa30-63a936af603f",
   "metadata": {},
   "outputs": [
    {
     "data": {
      "text/plain": [
       "['1 DECEMBRIE',\n",
       " '2 MAI',\n",
       " '23 AUGUST',\n",
       " 'ABRAM',\n",
       " 'ABRAMUT',\n",
       " 'ABRUD',\n",
       " 'ABRUD-SAT',\n",
       " 'ABUCEA',\n",
       " 'ABUD',\n",
       " 'ABUS']"
      ]
     },
     "execution_count": 3,
     "metadata": {},
     "output_type": "execute_result"
    }
   ],
   "source": [
    "words = open(\"rocities.txt\", \"r\").read().splitlines()\n",
    "words[:10]"
   ]
  },
  {
   "cell_type": "code",
   "execution_count": 4,
   "id": "224b137c-4d93-4f13-80ca-017943e5e180",
   "metadata": {},
   "outputs": [
    {
     "data": {
      "text/plain": [
       "10148"
      ]
     },
     "execution_count": 4,
     "metadata": {},
     "output_type": "execute_result"
    }
   ],
   "source": [
    "len(words)"
   ]
  },
  {
   "cell_type": "code",
   "execution_count": 8,
   "id": "e4badf98-278f-47fb-9f4f-61130d5053c2",
   "metadata": {},
   "outputs": [
    {
     "name": "stdout",
     "output_type": "stream",
     "text": [
      "{' ': 1, '-': 2, '.': 3, '1': 4, '2': 5, '3': 6, 'A': 7, 'B': 8, 'C': 9, 'D': 10, 'E': 11, 'F': 12, 'G': 13, 'H': 14, 'I': 15, 'J': 16, 'K': 17, 'L': 18, 'M': 19, 'N': 20, 'O': 21, 'P': 22, 'R': 23, 'S': 24, 'T': 25, 'U': 26, 'V': 27, 'X': 28, 'Y': 29, 'Z': 30, '*': 0}\n"
     ]
    }
   ],
   "source": [
    "# build the vocabulary and mappings to/from ints\n",
    "chars = sorted(list(set(''.join(words))))\n",
    "stoi = {s: i + 1 for i,s in enumerate(chars)}\n",
    "stoi['*'] = 0\n",
    "itos = {i: s for s,i in stoi.items()}\n",
    "print(stoi)\n",
    "chars_count = len(stoi.values())"
   ]
  },
  {
   "cell_type": "code",
   "execution_count": 9,
   "id": "46a0af4c-8b41-4976-ba60-caf4fc493603",
   "metadata": {},
   "outputs": [
    {
     "name": "stdout",
     "output_type": "stream",
     "text": [
      "1 DECEMBRIE\n",
      "*** --> 1\n",
      "**1 -->  \n",
      "*1  --> D\n",
      "1 D --> E\n",
      " DE --> C\n",
      "DEC --> E\n",
      "ECE --> M\n",
      "CEM --> B\n",
      "EMB --> R\n",
      "MBR --> I\n",
      "BRI --> E\n",
      "RIE --> *\n",
      "2 MAI\n",
      "*** --> 2\n",
      "**2 -->  \n",
      "*2  --> M\n",
      "2 M --> A\n",
      " MA --> I\n",
      "MAI --> *\n",
      "23 AUGUST\n",
      "*** --> 2\n",
      "**2 --> 3\n",
      "*23 -->  \n",
      "23  --> A\n",
      "3 A --> U\n",
      " AU --> G\n",
      "AUG --> U\n",
      "UGU --> S\n",
      "GUS --> T\n",
      "UST --> *\n",
      "ABRAM\n",
      "*** --> A\n",
      "**A --> B\n",
      "*AB --> R\n",
      "ABR --> A\n",
      "BRA --> M\n",
      "RAM --> *\n",
      "ABRAMUT\n",
      "*** --> A\n",
      "**A --> B\n",
      "*AB --> R\n",
      "ABR --> A\n",
      "BRA --> M\n",
      "RAM --> U\n",
      "AMU --> T\n",
      "MUT --> *\n"
     ]
    }
   ],
   "source": [
    "# dataset\n",
    "\n",
    "block_size = 3 # length of context: no. of characters we use to predict the next\n",
    "\n",
    "X, Y = [], []\n",
    "for w in words[:5]:\n",
    "    print(w)\n",
    "    context = [0] * block_size\n",
    "    for ch in w + '*':\n",
    "        ix = stoi[ch]\n",
    "        X.append(context)\n",
    "        Y.append(ix)\n",
    "        print(''.join(itos[i] for i in context), '-->', itos[ix])\n",
    "        context = context[1:] + [ix] # crop and append, like a rolling window\n",
    "        \n",
    "X = torch.tensor(X)\n",
    "Y = torch.tensor(Y)"
   ]
  },
  {
   "cell_type": "code",
   "execution_count": 7,
   "id": "b11037d3-97cd-4750-882a-5bdb9fbf316f",
   "metadata": {},
   "outputs": [
    {
     "data": {
      "text/plain": [
       "(torch.Size([42, 3]), torch.int64, torch.Size([42]), torch.int64)"
      ]
     },
     "execution_count": 7,
     "metadata": {},
     "output_type": "execute_result"
    }
   ],
   "source": [
    "X.shape, X.dtype, Y.shape, Y.dtype"
   ]
  },
  {
   "cell_type": "code",
   "execution_count": 10,
   "id": "9ffb254e-7f29-4c93-a57c-5d56f14e77f1",
   "metadata": {},
   "outputs": [
    {
     "data": {
      "text/plain": [
       "31"
      ]
     },
     "execution_count": 10,
     "metadata": {},
     "output_type": "execute_result"
    }
   ],
   "source": [
    "chars_count"
   ]
  },
  {
   "cell_type": "code",
   "execution_count": 11,
   "id": "be2c66e8-7398-4766-99e6-45ba543fe04d",
   "metadata": {},
   "outputs": [],
   "source": [
    "C = torch.randn((chars_count, 2))  # lookup table - each char is 2 dimensional"
   ]
  },
  {
   "cell_type": "code",
   "execution_count": 12,
   "id": "3c8faf7c-a182-4412-8591-7c678d3e90a6",
   "metadata": {},
   "outputs": [
    {
     "data": {
      "text/plain": [
       "tensor([[-1.1380, -0.2441],\n",
       "        [-1.4069, -2.0488],\n",
       "        [ 0.7973,  2.0267],\n",
       "        [-0.1058,  0.9866],\n",
       "        [-0.2701,  1.3753],\n",
       "        [ 0.7238,  0.3643],\n",
       "        [-1.2547,  1.1373],\n",
       "        [ 0.7344, -0.8236],\n",
       "        [-0.3595,  0.4817],\n",
       "        [ 0.3307,  0.6951],\n",
       "        [ 0.0636, -1.1992],\n",
       "        [ 0.1435,  0.7069],\n",
       "        [-1.5492, -0.3226],\n",
       "        [ 0.4631, -0.2023],\n",
       "        [-1.3454, -1.5485],\n",
       "        [ 0.4418, -0.7414],\n",
       "        [-1.8547, -0.9415],\n",
       "        [ 0.8961,  0.4491],\n",
       "        [-0.7651,  0.6367],\n",
       "        [-1.4863,  1.1257],\n",
       "        [-0.1860, -0.0209],\n",
       "        [ 1.0618, -1.0539],\n",
       "        [ 0.2980, -0.0723],\n",
       "        [ 0.1165,  0.0628],\n",
       "        [ 0.2156, -0.5296],\n",
       "        [-0.2141, -0.4940],\n",
       "        [-0.1915,  0.7709],\n",
       "        [ 2.0043,  0.0134],\n",
       "        [-1.9098,  1.6056],\n",
       "        [-1.4830,  1.9992],\n",
       "        [ 0.9184,  0.0464]])"
      ]
     },
     "execution_count": 12,
     "metadata": {},
     "output_type": "execute_result"
    }
   ],
   "source": [
    "C"
   ]
  },
  {
   "cell_type": "code",
   "execution_count": null,
   "id": "8a5db170-f84f-4032-97a2-6e62e16197e6",
   "metadata": {},
   "outputs": [],
   "source": []
  }
 ],
 "metadata": {
  "kernelspec": {
   "display_name": "Python 3 (ipykernel)",
   "language": "python",
   "name": "python3"
  },
  "language_info": {
   "codemirror_mode": {
    "name": "ipython",
    "version": 3
   },
   "file_extension": ".py",
   "mimetype": "text/x-python",
   "name": "python",
   "nbconvert_exporter": "python",
   "pygments_lexer": "ipython3",
   "version": "3.11.6"
  }
 },
 "nbformat": 4,
 "nbformat_minor": 5
}
