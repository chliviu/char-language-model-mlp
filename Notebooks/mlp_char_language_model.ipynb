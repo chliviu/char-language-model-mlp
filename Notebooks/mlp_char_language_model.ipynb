{
 "cells": [
  {
   "cell_type": "code",
   "execution_count": 3,
   "id": "6dc9f122-3746-465b-8e1b-aa7bd2ad63b0",
   "metadata": {},
   "outputs": [],
   "source": [
    "# !pip install torch"
   ]
  },
  {
   "cell_type": "code",
   "execution_count": 2,
   "id": "f96bfbe1-c6d7-4bda-8f9c-5d8c6e10d521",
   "metadata": {},
   "outputs": [],
   "source": [
    "import torch\n",
    "import torch.nn.functional as F\n",
    "import matplotlib.pyplot as plt\n",
    "%matplotlib inline"
   ]
  },
  {
   "cell_type": "code",
   "execution_count": 3,
   "id": "5339ed13-5fec-435d-aa30-63a936af603f",
   "metadata": {},
   "outputs": [
    {
     "data": {
      "text/plain": [
       "['1 DECEMBRIE',\n",
       " '2 MAI',\n",
       " '23 AUGUST',\n",
       " 'ABRAM',\n",
       " 'ABRAMUT',\n",
       " 'ABRUD',\n",
       " 'ABRUD-SAT',\n",
       " 'ABUCEA',\n",
       " 'ABUD',\n",
       " 'ABUS']"
      ]
     },
     "execution_count": 3,
     "metadata": {},
     "output_type": "execute_result"
    }
   ],
   "source": [
    "words = open(\"rocities.txt\", \"r\").read().splitlines()\n",
    "words[:10]"
   ]
  },
  {
   "cell_type": "code",
   "execution_count": 4,
   "id": "224b137c-4d93-4f13-80ca-017943e5e180",
   "metadata": {},
   "outputs": [
    {
     "data": {
      "text/plain": [
       "10148"
      ]
     },
     "execution_count": 4,
     "metadata": {},
     "output_type": "execute_result"
    }
   ],
   "source": [
    "len(words)"
   ]
  },
  {
   "cell_type": "code",
   "execution_count": 8,
   "id": "e4badf98-278f-47fb-9f4f-61130d5053c2",
   "metadata": {},
   "outputs": [
    {
     "name": "stdout",
     "output_type": "stream",
     "text": [
      "{' ': 1, '-': 2, '.': 3, '1': 4, '2': 5, '3': 6, 'A': 7, 'B': 8, 'C': 9, 'D': 10, 'E': 11, 'F': 12, 'G': 13, 'H': 14, 'I': 15, 'J': 16, 'K': 17, 'L': 18, 'M': 19, 'N': 20, 'O': 21, 'P': 22, 'R': 23, 'S': 24, 'T': 25, 'U': 26, 'V': 27, 'X': 28, 'Y': 29, 'Z': 30, '*': 0}\n"
     ]
    }
   ],
   "source": [
    "# build the vocabulary and mappings to/from ints\n",
    "chars = sorted(list(set(''.join(words))))\n",
    "stoi = {s: i + 1 for i,s in enumerate(chars)}\n",
    "stoi['*'] = 0\n",
    "itos = {i: s for s,i in stoi.items()}\n",
    "print(stoi)\n",
    "chars_count = len(stoi.values())"
   ]
  },
  {
   "cell_type": "code",
   "execution_count": 55,
   "id": "46a0af4c-8b41-4976-ba60-caf4fc493603",
   "metadata": {},
   "outputs": [],
   "source": [
    "# dataset\n",
    "\n",
    "block_size = 3 # length of context: no. of characters we use to predict the next\n",
    "\n",
    "X, Y = [], []\n",
    "for w in words:\n",
    "    # print(w)\n",
    "    context = [0] * block_size\n",
    "    for ch in w + '*':\n",
    "        ix = stoi[ch]\n",
    "        X.append(context)\n",
    "        Y.append(ix)\n",
    "        # print(''.join(itos[i] for i in context), '-->', itos[ix])\n",
    "        context = context[1:] + [ix] # crop and append, like a rolling window\n",
    "        \n",
    "X = torch.tensor(X)\n",
    "Y = torch.tensor(Y)"
   ]
  },
  {
   "cell_type": "code",
   "execution_count": 56,
   "id": "b11037d3-97cd-4750-882a-5bdb9fbf316f",
   "metadata": {},
   "outputs": [
    {
     "data": {
      "text/plain": [
       "(torch.Size([98696, 3]), torch.int64, torch.Size([98696]), torch.int64)"
      ]
     },
     "execution_count": 56,
     "metadata": {},
     "output_type": "execute_result"
    }
   ],
   "source": [
    "X.shape, X.dtype, Y.shape, Y.dtype"
   ]
  },
  {
   "cell_type": "code",
   "execution_count": 10,
   "id": "9ffb254e-7f29-4c93-a57c-5d56f14e77f1",
   "metadata": {},
   "outputs": [
    {
     "data": {
      "text/plain": [
       "31"
      ]
     },
     "execution_count": 10,
     "metadata": {},
     "output_type": "execute_result"
    }
   ],
   "source": [
    "chars_count"
   ]
  },
  {
   "cell_type": "code",
   "execution_count": 11,
   "id": "be2c66e8-7398-4766-99e6-45ba543fe04d",
   "metadata": {},
   "outputs": [],
   "source": [
    "C = torch.randn((chars_count, 2))  # lookup table - each char is 2 dimensional"
   ]
  },
  {
   "cell_type": "code",
   "execution_count": 13,
   "id": "3c8faf7c-a182-4412-8591-7c678d3e90a6",
   "metadata": {},
   "outputs": [
    {
     "data": {
      "text/plain": [
       "torch.Size([42, 3, 2])"
      ]
     },
     "execution_count": 13,
     "metadata": {},
     "output_type": "execute_result"
    }
   ],
   "source": [
    "emb = C[X]\n",
    "emb.shape"
   ]
  },
  {
   "cell_type": "code",
   "execution_count": 14,
   "id": "8a5db170-f84f-4032-97a2-6e62e16197e6",
   "metadata": {},
   "outputs": [],
   "source": [
    "W1 = torch.randn((6, 100))\n",
    "b1 = torch.randn(100)"
   ]
  },
  {
   "cell_type": "code",
   "execution_count": 15,
   "id": "ded63d06-15b0-418f-81a6-d238adacd76d",
   "metadata": {},
   "outputs": [],
   "source": [
    "h = torch.tanh(emb.view(-1, 6) @ W1 + b1)"
   ]
  },
  {
   "cell_type": "code",
   "execution_count": 16,
   "id": "e48f45fa-d8e1-4cb2-b096-d59b18e72ce3",
   "metadata": {},
   "outputs": [
    {
     "data": {
      "text/plain": [
       "tensor([[ 0.9534,  0.9526, -0.9999,  ...,  0.3725,  0.8822,  0.9132],\n",
       "        [ 0.9981,  0.9784, -1.0000,  ...,  0.8397,  0.9609,  0.9558],\n",
       "        [-0.9837,  0.9834, -0.9677,  ...,  0.9980, -0.6042,  0.5047],\n",
       "        ...,\n",
       "        [ 0.9984, -0.1281, -0.9944,  ..., -0.9721, -0.4807,  0.0122],\n",
       "        [ 0.8547,  0.7818, -0.9986,  ...,  0.9968, -0.9415,  0.9750],\n",
       "        [-0.8325,  1.0000, -0.9164,  ...,  0.9927,  0.6431,  0.6123]])"
      ]
     },
     "execution_count": 16,
     "metadata": {},
     "output_type": "execute_result"
    }
   ],
   "source": [
    "h"
   ]
  },
  {
   "cell_type": "code",
   "execution_count": 18,
   "id": "af1a7d55-61b2-4f09-b538-1b4d6483e26e",
   "metadata": {},
   "outputs": [
    {
     "data": {
      "text/plain": [
       "torch.Size([42, 100])"
      ]
     },
     "execution_count": 18,
     "metadata": {},
     "output_type": "execute_result"
    }
   ],
   "source": [
    "h.shape"
   ]
  },
  {
   "cell_type": "code",
   "execution_count": 27,
   "id": "fdf3c573-bc4f-48c2-a4fd-43c243cd14fe",
   "metadata": {},
   "outputs": [],
   "source": [
    "W2 = torch.randn((100, chars_count))\n",
    "b2 = torch.randn(chars_count)"
   ]
  },
  {
   "cell_type": "code",
   "execution_count": 28,
   "id": "a1adbbff-9549-4d56-9be9-4b99306a535c",
   "metadata": {},
   "outputs": [],
   "source": [
    "logits = h @ W2 + b2"
   ]
  },
  {
   "cell_type": "code",
   "execution_count": 29,
   "id": "ae83e28b-8502-4b33-8233-4df83ae23921",
   "metadata": {},
   "outputs": [
    {
     "data": {
      "text/plain": [
       "torch.Size([42, 31])"
      ]
     },
     "execution_count": 29,
     "metadata": {},
     "output_type": "execute_result"
    }
   ],
   "source": [
    "logits.shape"
   ]
  },
  {
   "cell_type": "code",
   "execution_count": 24,
   "id": "bce8f1b5-3b3a-4144-9902-ca29340b126d",
   "metadata": {},
   "outputs": [],
   "source": [
    "counts = logits.exp()"
   ]
  },
  {
   "cell_type": "code",
   "execution_count": 25,
   "id": "79be6c9b-c843-4580-ae88-f8a174d71367",
   "metadata": {},
   "outputs": [],
   "source": [
    "prob = counts / counts.sum(1, keepdims=True)"
   ]
  },
  {
   "cell_type": "code",
   "execution_count": 26,
   "id": "82323039-6f9e-409a-9214-ba4203614b63",
   "metadata": {},
   "outputs": [
    {
     "data": {
      "text/plain": [
       "torch.Size([42, 27])"
      ]
     },
     "execution_count": 26,
     "metadata": {},
     "output_type": "execute_result"
    }
   ],
   "source": [
    "prob.shape"
   ]
  },
  {
   "cell_type": "code",
   "execution_count": 31,
   "id": "7cb65aca-4a9e-4175-9342-b6ab2f92752a",
   "metadata": {},
   "outputs": [
    {
     "data": {
      "text/plain": [
       "tensor(17.4903)"
      ]
     },
     "execution_count": 31,
     "metadata": {},
     "output_type": "execute_result"
    }
   ],
   "source": [
    "loss = -prob[torch.arange(42), Y].log().mean()\n",
    "loss"
   ]
  },
  {
   "cell_type": "code",
   "execution_count": 33,
   "id": "f1020e32-6bcd-4e8d-adcb-6bbbf620a7c6",
   "metadata": {},
   "outputs": [],
   "source": [
    "# ======== Refactor ========"
   ]
  },
  {
   "cell_type": "code",
   "execution_count": 57,
   "id": "8f99899a-83f8-4e0f-952a-5364692837d2",
   "metadata": {},
   "outputs": [
    {
     "data": {
      "text/plain": [
       "(torch.Size([98696, 3]), torch.Size([98696]))"
      ]
     },
     "execution_count": 57,
     "metadata": {},
     "output_type": "execute_result"
    }
   ],
   "source": [
    "X.shape, Y.shape"
   ]
  },
  {
   "cell_type": "code",
   "execution_count": 58,
   "id": "2ac73f5d-070a-4d7e-80f9-a6f63c91534e",
   "metadata": {},
   "outputs": [],
   "source": [
    "g = torch.Generator().manual_seed(21)  # for reproductibility\n",
    "C = torch.randn((chars_count, 2), generator=g)\n",
    "W1 = torch.randn((6, 100), generator=g)\n",
    "b1 = torch.randn(100, generator=g)\n",
    "W2 = torch.randn((100, chars_count), generator=g)\n",
    "b2 = torch.randn(chars_count, generator=g)\n",
    "parameters = [C, W1, b1, W2, b2]"
   ]
  },
  {
   "cell_type": "code",
   "execution_count": 59,
   "id": "1d713610-1f48-4f62-bf8d-6cd45a8d060d",
   "metadata": {},
   "outputs": [
    {
     "data": {
      "text/plain": [
       "3893"
      ]
     },
     "execution_count": 59,
     "metadata": {},
     "output_type": "execute_result"
    }
   ],
   "source": [
    "sum(p.nelement() for p in parameters)  # total number of parameters"
   ]
  },
  {
   "cell_type": "code",
   "execution_count": 48,
   "id": "acf21e03-29c8-4112-8598-74918c41a99d",
   "metadata": {},
   "outputs": [],
   "source": [
    "emb = C[X]  # [42, 3, 2]\n",
    "h = torch.tanh(emb.view(-1, 6) @ W1 + b1)\n",
    "logits = h @ W2 + b2  # (42, 31)\n",
    "loss = F.cross_entropy(logits, Y)"
   ]
  },
  {
   "cell_type": "code",
   "execution_count": 49,
   "id": "195b4ab5-295b-4b16-b17c-c5cde6ceca89",
   "metadata": {},
   "outputs": [
    {
     "data": {
      "text/plain": [
       "tensor(20.0864)"
      ]
     },
     "execution_count": 49,
     "metadata": {},
     "output_type": "execute_result"
    }
   ],
   "source": [
    "loss"
   ]
  },
  {
   "cell_type": "code",
   "execution_count": 61,
   "id": "e8c9ea18-4e6f-4a8e-871c-1d24090ab0ce",
   "metadata": {},
   "outputs": [],
   "source": [
    "for p in parameters:\n",
    "    p.requires_grad = True"
   ]
  },
  {
   "cell_type": "code",
   "execution_count": 67,
   "id": "38603e9f-2aed-4136-a4f1-268aaa7500cf",
   "metadata": {},
   "outputs": [
    {
     "name": "stdout",
     "output_type": "stream",
     "text": [
      "6.7284016609191895\n",
      "6.301486015319824\n",
      "5.432294845581055\n",
      "4.476382732391357\n",
      "6.1416778564453125\n",
      "4.517703533172607\n",
      "4.642545223236084\n",
      "5.423710346221924\n",
      "5.116897106170654\n",
      "4.875205039978027\n",
      "4.9433064460754395\n",
      "4.411256790161133\n",
      "4.985806941986084\n",
      "4.239737510681152\n",
      "5.490335941314697\n",
      "4.340299129486084\n",
      "4.274064540863037\n",
      "5.079934120178223\n",
      "4.896963596343994\n",
      "4.317893028259277\n",
      "4.233260154724121\n",
      "4.068843841552734\n",
      "3.275258779525757\n",
      "3.78747296333313\n",
      "4.735307693481445\n",
      "4.421080589294434\n",
      "3.3719940185546875\n",
      "3.5921976566314697\n",
      "4.75383996963501\n",
      "3.204467296600342\n",
      "3.7896244525909424\n",
      "3.934983491897583\n",
      "3.8381943702697754\n",
      "3.8798763751983643\n",
      "3.596116304397583\n",
      "3.5235540866851807\n",
      "4.156767845153809\n",
      "3.6482174396514893\n",
      "4.463482856750488\n",
      "3.1701819896698\n",
      "2.6076102256774902\n",
      "3.734800338745117\n",
      "3.7171595096588135\n",
      "3.899839162826538\n",
      "3.571465253829956\n",
      "2.888944149017334\n",
      "3.5402255058288574\n",
      "3.8374197483062744\n",
      "3.4488213062286377\n",
      "3.4916555881500244\n",
      "3.3796186447143555\n",
      "3.7395923137664795\n",
      "3.7499003410339355\n",
      "3.741804838180542\n",
      "3.4873645305633545\n",
      "3.86004638671875\n",
      "2.8188564777374268\n",
      "3.6443238258361816\n",
      "3.1620607376098633\n",
      "3.395329475402832\n",
      "3.0617988109588623\n",
      "2.5258073806762695\n",
      "3.4006588459014893\n",
      "3.4343526363372803\n",
      "3.106031894683838\n",
      "3.0890920162200928\n",
      "2.6410837173461914\n",
      "3.0793232917785645\n",
      "3.968951940536499\n",
      "3.558034896850586\n",
      "3.0007998943328857\n",
      "3.8566854000091553\n",
      "3.1770005226135254\n",
      "2.6471362113952637\n",
      "3.262345552444458\n",
      "2.939704179763794\n",
      "2.909684419631958\n",
      "3.399791955947876\n",
      "2.9780147075653076\n",
      "3.1940042972564697\n",
      "3.171804428100586\n",
      "2.9974212646484375\n",
      "3.4892988204956055\n",
      "2.9663310050964355\n",
      "2.761345863342285\n",
      "3.342752695083618\n",
      "2.685908794403076\n",
      "2.763401508331299\n",
      "2.8999698162078857\n",
      "3.0020852088928223\n",
      "2.953099489212036\n",
      "3.2550556659698486\n",
      "3.1802728176116943\n",
      "2.882558822631836\n",
      "3.0685391426086426\n",
      "3.4460318088531494\n",
      "2.933551549911499\n",
      "2.878556489944458\n",
      "3.4181413650512695\n",
      "3.016368865966797\n"
     ]
    }
   ],
   "source": [
    "for _ in range(100):\n",
    "    # minibatch construct\n",
    "    ix = torch.randint(0, X.shape[0], (42,))\n",
    "    \n",
    "    # forward pass\n",
    "    emb = C[X[ix]]  # [42, 3, 2]\n",
    "    h = torch.tanh(emb.view(-1, 6) @ W1 + b1)\n",
    "    logits = h @ W2 + b2  # (42, 31)\n",
    "    loss = F.cross_entropy(logits, Y[ix])\n",
    "    # backward pass\n",
    "    for p in parameters:\n",
    "        p.grad = None\n",
    "    loss.backward()\n",
    "    # update\n",
    "    for p in parameters:\n",
    "        p.data += -0.1 * p.grad\n",
    "\n",
    "    print(loss.item())"
   ]
  },
  {
   "cell_type": "code",
   "execution_count": null,
   "id": "19088ea8-0f3f-491b-b7a1-2bf4aaa42476",
   "metadata": {},
   "outputs": [],
   "source": []
  }
 ],
 "metadata": {
  "kernelspec": {
   "display_name": "Python 3 (ipykernel)",
   "language": "python",
   "name": "python3"
  },
  "language_info": {
   "codemirror_mode": {
    "name": "ipython",
    "version": 3
   },
   "file_extension": ".py",
   "mimetype": "text/x-python",
   "name": "python",
   "nbconvert_exporter": "python",
   "pygments_lexer": "ipython3",
   "version": "3.11.6"
  }
 },
 "nbformat": 4,
 "nbformat_minor": 5
}
