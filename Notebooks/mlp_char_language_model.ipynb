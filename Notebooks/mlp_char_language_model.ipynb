{
 "cells": [
  {
   "cell_type": "code",
   "execution_count": 3,
   "id": "6dc9f122-3746-465b-8e1b-aa7bd2ad63b0",
   "metadata": {},
   "outputs": [],
   "source": [
    "# !pip install torch"
   ]
  },
  {
   "cell_type": "code",
   "execution_count": 4,
   "id": "f96bfbe1-c6d7-4bda-8f9c-5d8c6e10d521",
   "metadata": {},
   "outputs": [],
   "source": [
    "import torch\n",
    "import torch.nn.functional as F\n",
    "import matplotlib.pyplot as plt\n",
    "%matplotlib inline"
   ]
  },
  {
   "cell_type": "code",
   "execution_count": 6,
   "id": "5339ed13-5fec-435d-aa30-63a936af603f",
   "metadata": {},
   "outputs": [
    {
     "data": {
      "text/plain": [
       "['1 DECEMBRIE',\n",
       " '2 MAI',\n",
       " '23 AUGUST',\n",
       " 'ABRAM',\n",
       " 'ABRAMUT',\n",
       " 'ABRUD',\n",
       " 'ABRUD-SAT',\n",
       " 'ABUCEA',\n",
       " 'ABUD',\n",
       " 'ABUS']"
      ]
     },
     "execution_count": 6,
     "metadata": {},
     "output_type": "execute_result"
    }
   ],
   "source": [
    "words = open(\"rocities.txt\", \"r\").read().splitlines()\n",
    "words[:10]"
   ]
  },
  {
   "cell_type": "code",
   "execution_count": 7,
   "id": "224b137c-4d93-4f13-80ca-017943e5e180",
   "metadata": {},
   "outputs": [
    {
     "data": {
      "text/plain": [
       "10148"
      ]
     },
     "execution_count": 7,
     "metadata": {},
     "output_type": "execute_result"
    }
   ],
   "source": [
    "len(words)"
   ]
  },
  {
   "cell_type": "code",
   "execution_count": 10,
   "id": "e4badf98-278f-47fb-9f4f-61130d5053c2",
   "metadata": {},
   "outputs": [
    {
     "name": "stdout",
     "output_type": "stream",
     "text": [
      "{' ': 1, '-': 2, '.': 3, '1': 4, '2': 5, '3': 6, 'A': 7, 'B': 8, 'C': 9, 'D': 10, 'E': 11, 'F': 12, 'G': 13, 'H': 14, 'I': 15, 'J': 16, 'K': 17, 'L': 18, 'M': 19, 'N': 20, 'O': 21, 'P': 22, 'R': 23, 'S': 24, 'T': 25, 'U': 26, 'V': 27, 'X': 28, 'Y': 29, 'Z': 30, '*': 0}\n"
     ]
    }
   ],
   "source": [
    "# build the vocabulary and mappings to/from ints\n",
    "chars = sorted(list(set(''.join(words))))\n",
    "stoi = {s: i + 1 for i,s in enumerate(chars)}\n",
    "stoi['*'] = 0\n",
    "itos = {i: s for s,i in stoi.items()}\n",
    "print(stoi)"
   ]
  },
  {
   "cell_type": "code",
   "execution_count": 13,
   "id": "46a0af4c-8b41-4976-ba60-caf4fc493603",
   "metadata": {},
   "outputs": [
    {
     "name": "stdout",
     "output_type": "stream",
     "text": [
      "1 DECEMBRIE\n",
      "*** --> 1\n",
      "**1 -->  \n",
      "*1  --> D\n",
      "1 D --> E\n",
      " DE --> C\n",
      "DEC --> E\n",
      "ECE --> M\n",
      "CEM --> B\n",
      "EMB --> R\n",
      "MBR --> I\n",
      "BRI --> E\n",
      "RIE --> .\n",
      "2 MAI\n",
      "*** --> 2\n",
      "**2 -->  \n",
      "*2  --> M\n",
      "2 M --> A\n",
      " MA --> I\n",
      "MAI --> .\n",
      "23 AUGUST\n",
      "*** --> 2\n",
      "**2 --> 3\n",
      "*23 -->  \n",
      "23  --> A\n",
      "3 A --> U\n",
      " AU --> G\n",
      "AUG --> U\n",
      "UGU --> S\n",
      "GUS --> T\n",
      "UST --> .\n",
      "ABRAM\n",
      "*** --> A\n",
      "**A --> B\n",
      "*AB --> R\n",
      "ABR --> A\n",
      "BRA --> M\n",
      "RAM --> .\n",
      "ABRAMUT\n",
      "*** --> A\n",
      "**A --> B\n",
      "*AB --> R\n",
      "ABR --> A\n",
      "BRA --> M\n",
      "RAM --> U\n",
      "AMU --> T\n",
      "MUT --> .\n"
     ]
    }
   ],
   "source": [
    "# dataset\n",
    "\n",
    "block_size = 3 # length of context: no. of characters we use to predict the next\n",
    "\n",
    "X, Y = [], []\n",
    "for w in words[:5]:\n",
    "    print(w)\n",
    "    context = [0] * block_size\n",
    "    for ch in w + '.':\n",
    "        ix = stoi[ch]\n",
    "        X.append(context)\n",
    "        Y.append(ix)\n",
    "        print(''.join(itos[i] for i in context), '-->', itos[ix])\n",
    "        context = context[1:] + [ix] # crop and append, like a rolling window\n",
    "        \n",
    "X = torch.tensor(X)\n",
    "Y = torch.tensor(Y)"
   ]
  },
  {
   "cell_type": "code",
   "execution_count": null,
   "id": "b11037d3-97cd-4750-882a-5bdb9fbf316f",
   "metadata": {},
   "outputs": [],
   "source": []
  }
 ],
 "metadata": {
  "kernelspec": {
   "display_name": "Python 3 (ipykernel)",
   "language": "python",
   "name": "python3"
  },
  "language_info": {
   "codemirror_mode": {
    "name": "ipython",
    "version": 3
   },
   "file_extension": ".py",
   "mimetype": "text/x-python",
   "name": "python",
   "nbconvert_exporter": "python",
   "pygments_lexer": "ipython3",
   "version": "3.11.6"
  }
 },
 "nbformat": 4,
 "nbformat_minor": 5
}
